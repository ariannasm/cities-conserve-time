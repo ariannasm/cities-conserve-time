{
 "cells": [
  {
   "cell_type": "markdown",
   "id": "e6cc7845-3bfb-47cb-8359-9910074fc8b6",
   "metadata": {},
   "source": [
    "processing_GHSL.ipynb\n",
    "------------------------------------------------------------------------------\n",
    "Purpose:  \n",
    "- Process Global Human Settlement Layer into Functional Urban Area populations and boundaries for use in Spectus processing and figure creation.\n",
    "  \n",
    "Usage:\n",
    "- Change fp variable to replication filepath.\n",
    "- Run all cells.\n",
    "  \n",
    "Requirements:\n",
    "- Python 3\n",
    "- Packages: pandas 2.2.2, numpy 1.26.4, shapely 2.0.4, rasterio 1.3.10, geopandas 0.14.3\n",
    "\n",
    "Inputs:\n",
    "- Contents of the folder /data/GHSL in the replication folder --- raster population data and functional urban area boundary data.\n",
    "\n",
    "Outputs:\n",
    "- fua/fua.geojson\n",
    "- fua/FUA.csv"
   ]
  },
  {
   "cell_type": "code",
   "execution_count": 1,
   "id": "b6fddcbb-07d3-458c-8256-fe0486f12124",
   "metadata": {},
   "outputs": [],
   "source": [
    "import geopandas as gpd\n",
    "import pandas as pd\n",
    "import os\n",
    "import fiona\n",
    "from shapely.geometry.collection import GeometryCollection\n",
    "from shapely.geometry import Polygon, box\n",
    "from shapely.ops import unary_union\n",
    "import rasterio\n",
    "from rasterio.mask import mask\n",
    "from tqdm import tqdm\n"
   ]
  },
  {
   "cell_type": "code",
   "execution_count": 2,
   "id": "47936bee-22b8-4261-addc-1805a6ce854e",
   "metadata": {},
   "outputs": [],
   "source": [
    "# Path to the GeoPackage file\n",
    "fp = '../data/'\n",
    "fp_input = fp\n",
    "fp_output = fp+'fua/' # We'll save this in the input folder, as it's used as an input in later scripts.\n",
    "ghsl_path = f'{fp_input}GHSL/'\n",
    "\n",
    "gpkg_path = ghsl_path + \"GHS_FUA_UCDB2015_GLOBE_R2019A_54009_1K_V1_0/GHS_FUA_UCDB2015_GLOBE_R2019A_54009_1K_V1_0.gpkg\"\n",
    "layers = fiona.listlayers(gpkg_path)\n",
    "FUA = gpd.read_file(gpkg_path, layer=layers[0]) \n",
    "FUA = FUA[FUA.Cntry_name.isin(['Nigeria','Indonesia','Mexico','India'])]\n"
   ]
  },
  {
   "cell_type": "code",
   "execution_count": 3,
   "id": "7651ea2d-e7d5-4def-ba3d-5977d82ca671",
   "metadata": {},
   "outputs": [
    {
     "name": "stderr",
     "output_type": "stream",
     "text": [
      "100%|███████████████████████████████████████████| 40/40 [00:01<00:00, 27.47it/s]\n"
     ]
    }
   ],
   "source": [
    "# Path to the GHSL .tif file\n",
    "tif_path = f\"{ghsl_path}GHSL_pop/\"\n",
    "fua_pops = {fua_id:0 for fua_id in FUA.eFUA_ID}\n",
    "fua_areas = {fua_id:0 for fua_id in FUA.eFUA_ID}\n",
    "fua_raster_areas = {fua_id:0 for fua_id in FUA.eFUA_ID}\n",
    "\n",
    "# Open the raster file\n",
    "for tif in tqdm(os.listdir(tif_path)):\n",
    "    if tif != '.DS_Store':\n",
    "        tp = f'{tif_path}{tif}/{tif}.tif'\n",
    "        with rasterio.open(tp) as src:\n",
    "            # Extract geometry from the GeoDataFrame (convert to GeoJSON-like format)\n",
    "            FUA = FUA.to_crs(src.crs)\n",
    "            xmin,ymin,xmax,ymax = src.bounds\n",
    "            bbox = box(xmin,ymin,xmax,ymax)\n",
    "            bbox_gdf = gpd.GeoDataFrame({\"geometry\": [bbox]}, crs=src.crs)\n",
    "            \n",
    "            # Clip the GeoDataFrame using geopandas.clip()\n",
    "            fua_aoi = gpd.clip(FUA, bbox_gdf)\n",
    "            fua_aoi = fua_aoi[fua_aoi.area>0]\n",
    "            for idx,row in fua_aoi.iterrows():\n",
    "                geo = row.geometry\n",
    "                if type(geo) == GeometryCollection:\n",
    "                    geo = unary_union([g for g in geo.geoms if type(g) == Polygon])\n",
    "                aoi_geometry = [geo.__geo_interface__]\n",
    "                \n",
    "                # Clip the raster using the AOI geometry\n",
    "                clipped_data, clipped_transform = mask(src, aoi_geometry, crop=True)\n",
    "                \n",
    "                # Update metadata for the clipped raster\n",
    "                clipped_meta = src.meta.copy()\n",
    "                clipped_meta.update({\n",
    "                    \"driver\": \"GTiff\",\n",
    "                    \"height\": clipped_data.shape[1],\n",
    "                    \"width\": clipped_data.shape[2],\n",
    "                    \"transform\": clipped_transform\n",
    "                })\n",
    "            \n",
    "                fua_pop = sum(clipped_data[clipped_data>=0])\n",
    "                fua_pops[row.eFUA_ID] += fua_pop\n",
    "                fua_areas[row.eFUA_ID] += geo.area\n",
    "                fua_raster_areas[row.eFUA_ID] += len(clipped_data[clipped_data>=0])\n",
    "                \n"
   ]
  },
  {
   "cell_type": "code",
   "execution_count": 4,
   "id": "b0c80f2e-00be-4be5-8c0e-6fa39c9d8af8",
   "metadata": {},
   "outputs": [],
   "source": [
    "FUA['FUA_p_2020'] = FUA.eFUA_ID.apply(lambda x: fua_pops[x])\n",
    "FUA['gc_area'] = FUA.eFUA_ID.apply(lambda x: fua_areas[x])\n",
    "FUA['raster_area'] = FUA.eFUA_ID.apply(lambda x: fua_raster_areas[x])"
   ]
  },
  {
   "cell_type": "code",
   "execution_count": 5,
   "id": "adae2459-747b-4405-815b-ebdd3c901977",
   "metadata": {},
   "outputs": [],
   "source": [
    "FUA_forexport = FUA[FUA.FUA_p_2020>100000][['eFUA_ID','Cntry_ISO','geometry','FUA_p_2015','FUA_p_2020']]\n",
    "spectus_cc = {'MEX':\"MX\",'NGA':'NG','IND':'IN','IDN':'ID'}\n",
    "FUA_forexport['country_code'] = FUA_forexport.Cntry_ISO.apply(lambda x: spectus_cc[x])"
   ]
  },
  {
   "cell_type": "code",
   "execution_count": 6,
   "id": "cdfae926-158d-4401-abf5-73f554f46f28",
   "metadata": {},
   "outputs": [],
   "source": [
    "FUA_forexport.to_crs(4326).to_csv(f'{fp_output}fua.csv')"
   ]
  },
  {
   "cell_type": "code",
   "execution_count": 7,
   "id": "7ddb9768-cc5f-4738-a5a3-08a8725a6784",
   "metadata": {},
   "outputs": [],
   "source": [
    "FUA_forexport.to_crs(4326).to_file(f'{fp_output}FUA.geojson')"
   ]
  },
  {
   "cell_type": "code",
   "execution_count": null,
   "id": "6f36f8d0-73d3-485e-b9e3-d6a563a4a129",
   "metadata": {},
   "outputs": [],
   "source": []
  }
 ],
 "metadata": {
  "kernelspec": {
   "display_name": "realtrips",
   "language": "python",
   "name": "realtrips"
  },
  "language_info": {
   "codemirror_mode": {
    "name": "ipython",
    "version": 3
   },
   "file_extension": ".py",
   "mimetype": "text/x-python",
   "name": "python",
   "nbconvert_exporter": "python",
   "pygments_lexer": "ipython3",
   "version": "3.12.3"
  }
 },
 "nbformat": 4,
 "nbformat_minor": 5
}
